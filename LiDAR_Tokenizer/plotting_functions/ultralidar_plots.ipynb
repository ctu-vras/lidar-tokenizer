{
 "cells": [
  {
   "cell_type": "code",
   "execution_count": 21,
   "metadata": {},
   "outputs": [],
   "source": [
    "import sys\n",
    "import os\n",
    "sys.path.append(os.path.abspath('..'))\n",
    "\n",
    "from data_managment import datasets, nuscenes\n",
    "from data_managment.data_modules import collate_ultralidar\n",
    "from model_managment.helpers import load_model\n",
    "from model_managment.models import UltraLidarModel\n",
    "from data_managment.data_modules import LidarTokenizerModule\n",
    "\n",
    "import matplotlib.image as mpimg\n",
    "from PIL import Image\n",
    "\n",
    "import matplotlib\n",
    "import numpy as np\n",
    "import plotly.graph_objects as go\n",
    "import torch\n",
    "from torch.utils.data import DataLoader\n",
    "import pytorch_lightning as pl\n"
   ]
  },
  {
   "cell_type": "code",
   "execution_count": 22,
   "metadata": {},
   "outputs": [],
   "source": [
    "configs = [\"../model_managment/config_FINAL_ul_base.yaml\",\n",
    "               \"../model_managment/config_FINAL_ul_fsq.yaml\",\n",
    "               \"../model_managment/config_FINAL_ul_base_1k.yaml\",\n",
    "               \"../model_managment/config_FINAL_ul_base_1k_4k.yaml\"]\n",
    "\n",
    "models = [\"../slurm_logs/ul_FINAL_vq_241116_2328/models/ultralidar-epoch=11-step=39999.ckpt\",\n",
    "            \"../slurm_logs/ul_FINAL_fsq_241116_2325/models/ultralidar-epoch=11-step=39999.ckpt\",\n",
    "            \"../slurm_logs/ul_FINAL_vq_1k_241117_1647/models/ultralidar-epoch=11-step=39999.ckpt\",\n",
    "            \"../slurm_logs/ul_FINAL_vq_1k_4k_241117_2326/models/ultralidar-epoch=11-step=39999.ckpt\"]\n",
    "    \n",
    "assert len(configs) == len(models)"
   ]
  },
  {
   "cell_type": "code",
   "execution_count": 23,
   "metadata": {},
   "outputs": [
    {
     "name": "stderr",
     "output_type": "stream",
     "text": [
      "/tmp/ipykernel_902763/2677611782.py:3: FutureWarning:\n",
      "\n",
      "You are using `torch.load` with `weights_only=False` (the current default value), which uses the default pickle module implicitly. It is possible to construct malicious pickle data which will execute arbitrary code during unpickling (See https://github.com/pytorch/pytorch/blob/main/SECURITY.md#untrusted-models for more details). In a future release, the default value for `weights_only` will be flipped to `True`. This limits the functions that could be executed during unpickling. Arbitrary objects will no longer be allowed to be loaded via this mode unless they are explicitly allowlisted by the user via `torch.serialization.add_safe_globals`. We recommend you start setting `weights_only=True` for any use case where you don't have full control of the loaded file. Please open an issue on GitHub for any issues related to this experimental feature.\n",
      "\n",
      "GPU available: False, used: False\n",
      "TPU available: False, using: 0 TPU cores\n",
      "IPU available: False, using: 0 IPUs\n"
     ]
    },
    {
     "data": {
      "application/vnd.jupyter.widget-view+json": {
       "model_id": "32e4b966d2904291ba096f3101383f0b",
       "version_major": 2,
       "version_minor": 0
      },
      "text/plain": [
       "Predicting: 0it [00:00, ?it/s]"
      ]
     },
     "metadata": {},
     "output_type": "display_data"
    }
   ],
   "source": [
    "k = 0 # number of model from above lists\n",
    "model = load_model(configs[k])\n",
    "checkpoint = torch.load(models[k], map_location=torch.device('cpu'))\n",
    "model.load_state_dict(checkpoint[\"state_dict\"])\n",
    "model.eval()\n",
    "\n",
    "data = LidarTokenizerModule(dataroot = '/mnt/data/Public_datasets/nuScenes/',\n",
    "                      batch_size = 1,\n",
    "                      num_workers = 0,\n",
    "                      info_file_path = \"../data_managment/nuscenes_info_plot.json\",    # specifies which files are train/val/test\n",
    "                      mode=\"ultralidar\",\n",
    "                      dataset=\"nuscenes\",\n",
    "                      config_path=configs[k][3:],\n",
    "                      version=\"v1.0-test\"\n",
    "                      )   \n",
    "  \n",
    "trainer = pl.Trainer(gpus=0)\n",
    "predictions = trainer.predict(model, datamodule=data)"
   ]
  },
  {
   "cell_type": "code",
   "execution_count": 24,
   "metadata": {},
   "outputs": [
    {
     "name": "stdout",
     "output_type": "stream",
     "text": [
      "IOU             : 0.477\n",
      "Code utilization: 0.983\n",
      "Code uniformity : 0.139\n"
     ]
    }
   ],
   "source": [
    "import plotly.io as pio\n",
    "pio.renderers.default = 'browser'\n",
    "\n",
    "i = 0\n",
    "\n",
    "metrics = predictions[i][0]\n",
    "pcd_in = predictions[i][1][0][:,:3]\n",
    "pcd_out = predictions[i][2]\n",
    "voxels_pcd_in = predictions[i][3]\n",
    "\n",
    "print(f\"IOU             : {round(float(metrics['test/lidar_rec_iou'].item()),3)}\")\n",
    "print(f\"Code utilization: {round(float(metrics['test/code_util'].item()),3)}\")\n",
    "print(f\"Code uniformity : {round(float(metrics['test/code_uniformity'].item()),3)}\")\n",
    "\n",
    "fig = go.Figure(data=[go.Scatter3d(\n",
    "    x=pcd_in[:,0],\n",
    "    y=pcd_in[:,1],\n",
    "    z=pcd_in[:,2],\n",
    "    mode='markers',\n",
    "    marker=dict(size=2, color='blue')\n",
    ")])\n",
    "\n",
    "fig.add_trace(go.Scatter3d(\n",
    "    x=pcd_out[:,0],\n",
    "    y=pcd_out[:,1],\n",
    "    z=pcd_out[:,2],\n",
    "    mode='markers',\n",
    "    marker=dict(size=2, color='green')\n",
    "))\n",
    "\n",
    "fig.add_trace(go.Scatter3d(\n",
    "    x=voxels_pcd_in[:,0],\n",
    "    y=voxels_pcd_in[:,1],\n",
    "    z=voxels_pcd_in[:,2],\n",
    "    mode='markers',\n",
    "    marker=dict(size=2, color='red')\n",
    "))\n",
    "\n",
    "\"\"\" cube_x = [0, 100, 100, 0, 0,        0, 100, 100, 0, 0, 100,100    ,100,100,0,0]\n",
    "cube_y = [-50, -50, 50, 50, -50,    -50, -50, 50, 50, -50, -50,-50, 50,50,50,50]\n",
    "cube_z = [-2, -2, -2, -2, -2,       18, 18, 18, 18, 18, 18,    -2, -2, 18, 18,-2]\n",
    "\n",
    "# Adding the cube outline\n",
    "fig.add_trace(go.Scatter3d(\n",
    "    x=cube_x,\n",
    "    y=cube_y,\n",
    "    z=cube_z,\n",
    "    mode='lines',\n",
    "    line=dict(color='red', width=2),\n",
    "    name='Occupancy Grid Outline'\n",
    ")) \"\"\"\n",
    "\n",
    "fig.update_layout(\n",
    "    scene=dict(\n",
    "        xaxis=dict(nticks=10, range=[-70, 70], backgroundcolor=\"white\"),\n",
    "        yaxis=dict(nticks=10, range=[-70, 70], backgroundcolor=\"white\"),\n",
    "        zaxis=dict(nticks=10, range=[-70, 70], backgroundcolor=\"white\"),\n",
    "        aspectmode='cube'\n",
    "    ),\n",
    "    paper_bgcolor=\"white\",  # Background color outside the 3D scene\n",
    "    plot_bgcolor=\"white\"    # Background color inside the 3D scene\n",
    ")\n",
    "\n",
    "fig.show()"
   ]
  }
 ],
 "metadata": {
  "kernelspec": {
   "display_name": "lidar_diffusion",
   "language": "python",
   "name": "python3"
  },
  "language_info": {
   "codemirror_mode": {
    "name": "ipython",
    "version": 3
   },
   "file_extension": ".py",
   "mimetype": "text/x-python",
   "name": "python",
   "nbconvert_exporter": "python",
   "pygments_lexer": "ipython3",
   "version": "3.10.11"
  }
 },
 "nbformat": 4,
 "nbformat_minor": 2
}
